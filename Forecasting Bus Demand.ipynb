{
 "cells": [
  {
   "cell_type": "code",
   "execution_count": 185,
   "id": "1d92a970",
   "metadata": {},
   "outputs": [],
   "source": [
    "#importing library\n",
    "import pandas as pd\n",
    "import numpy as np\n",
    "import seaborn as sb\n",
    "import datetime\n",
    "from itertools import combinations\n",
    "\n",
    "#VISUALIZATION\n",
    "import seaborn as sns\n",
    "import matplotlib as mpl\n",
    "import matplotlib.pyplot as plt\n",
    "import matplotlib.dates as mdates\n",
    "import plotly as py\n",
    "\n",
    "from sklearn import metrics\n",
    "from sklearn.metrics import mean_squared_log_error, mean_squared_error, r2_score, mean_absolute_error\n",
    "from sklearn.metrics import classification_report, confusion_matrix\n",
    "\n",
    "import plotly.express as px\n",
    "import plotly.graph_objects as go\n",
    "\n",
    "from scipy.stats import kurtosis\n",
    "from scipy.stats import skew\n",
    "plt.style.use('ggplot')\n",
    "\n",
    "import warnings\n",
    "warnings.filterwarnings(\"ignore\")\n",
    "import warnings \n",
    "warnings.filterwarnings(\"ignore\",category=FutureWarning)\n",
    "\n",
    "import os"
   ]
  },
  {
   "cell_type": "code",
   "execution_count": 82,
   "id": "0627c79e",
   "metadata": {},
   "outputs": [],
   "source": [
    "pd.set_option('display.max_rows', 500)\n",
    "pd.set_option('display.max_columns', 500)\n",
    "pd.set_option('display.width', 1000)"
   ]
  },
  {
   "cell_type": "code",
   "execution_count": 83,
   "id": "8f380254",
   "metadata": {},
   "outputs": [],
   "source": [
    "df=pd.read_csv('municipality_bus_utilization.csv')"
   ]
  },
  {
   "cell_type": "code",
   "execution_count": 84,
   "id": "3a69b093",
   "metadata": {},
   "outputs": [
    {
     "data": {
      "text/html": [
       "<div>\n",
       "<style scoped>\n",
       "    .dataframe tbody tr th:only-of-type {\n",
       "        vertical-align: middle;\n",
       "    }\n",
       "\n",
       "    .dataframe tbody tr th {\n",
       "        vertical-align: top;\n",
       "    }\n",
       "\n",
       "    .dataframe thead th {\n",
       "        text-align: right;\n",
       "    }\n",
       "</style>\n",
       "<table border=\"1\" class=\"dataframe\">\n",
       "  <thead>\n",
       "    <tr style=\"text-align: right;\">\n",
       "      <th></th>\n",
       "      <th>timestamp</th>\n",
       "      <th>municipality_id</th>\n",
       "      <th>usage</th>\n",
       "      <th>total_capacity</th>\n",
       "    </tr>\n",
       "  </thead>\n",
       "  <tbody>\n",
       "    <tr>\n",
       "      <th>0</th>\n",
       "      <td>2017-06-04 07:59:42</td>\n",
       "      <td>9</td>\n",
       "      <td>454</td>\n",
       "      <td>1332</td>\n",
       "    </tr>\n",
       "    <tr>\n",
       "      <th>1</th>\n",
       "      <td>2017-06-04 07:59:42</td>\n",
       "      <td>8</td>\n",
       "      <td>556</td>\n",
       "      <td>2947</td>\n",
       "    </tr>\n",
       "    <tr>\n",
       "      <th>2</th>\n",
       "      <td>2017-06-04 07:59:42</td>\n",
       "      <td>4</td>\n",
       "      <td>1090</td>\n",
       "      <td>3893</td>\n",
       "    </tr>\n",
       "    <tr>\n",
       "      <th>3</th>\n",
       "      <td>2017-06-04 07:59:42</td>\n",
       "      <td>0</td>\n",
       "      <td>204</td>\n",
       "      <td>2813</td>\n",
       "    </tr>\n",
       "    <tr>\n",
       "      <th>4</th>\n",
       "      <td>2017-06-04 07:59:42</td>\n",
       "      <td>7</td>\n",
       "      <td>718</td>\n",
       "      <td>2019</td>\n",
       "    </tr>\n",
       "    <tr>\n",
       "      <th>...</th>\n",
       "      <td>...</td>\n",
       "      <td>...</td>\n",
       "      <td>...</td>\n",
       "      <td>...</td>\n",
       "    </tr>\n",
       "    <tr>\n",
       "      <th>13065</th>\n",
       "      <td>2017-08-19 16:30:35</td>\n",
       "      <td>2</td>\n",
       "      <td>548</td>\n",
       "      <td>697</td>\n",
       "    </tr>\n",
       "    <tr>\n",
       "      <th>13066</th>\n",
       "      <td>2017-08-19 16:30:35</td>\n",
       "      <td>8</td>\n",
       "      <td>1193</td>\n",
       "      <td>2947</td>\n",
       "    </tr>\n",
       "    <tr>\n",
       "      <th>13067</th>\n",
       "      <td>2017-08-19 16:30:35</td>\n",
       "      <td>7</td>\n",
       "      <td>1354</td>\n",
       "      <td>2019</td>\n",
       "    </tr>\n",
       "    <tr>\n",
       "      <th>13068</th>\n",
       "      <td>2017-08-19 16:30:35</td>\n",
       "      <td>6</td>\n",
       "      <td>1680</td>\n",
       "      <td>3113</td>\n",
       "    </tr>\n",
       "    <tr>\n",
       "      <th>13069</th>\n",
       "      <td>2017-08-19 16:30:35</td>\n",
       "      <td>3</td>\n",
       "      <td>1189</td>\n",
       "      <td>1930</td>\n",
       "    </tr>\n",
       "  </tbody>\n",
       "</table>\n",
       "<p>13070 rows × 4 columns</p>\n",
       "</div>"
      ],
      "text/plain": [
       "                 timestamp  municipality_id  usage  total_capacity\n",
       "0      2017-06-04 07:59:42                9    454            1332\n",
       "1      2017-06-04 07:59:42                8    556            2947\n",
       "2      2017-06-04 07:59:42                4   1090            3893\n",
       "3      2017-06-04 07:59:42                0    204            2813\n",
       "4      2017-06-04 07:59:42                7    718            2019\n",
       "...                    ...              ...    ...             ...\n",
       "13065  2017-08-19 16:30:35                2    548             697\n",
       "13066  2017-08-19 16:30:35                8   1193            2947\n",
       "13067  2017-08-19 16:30:35                7   1354            2019\n",
       "13068  2017-08-19 16:30:35                6   1680            3113\n",
       "13069  2017-08-19 16:30:35                3   1189            1930\n",
       "\n",
       "[13070 rows x 4 columns]"
      ]
     },
     "execution_count": 84,
     "metadata": {},
     "output_type": "execute_result"
    }
   ],
   "source": [
    "df"
   ]
  },
  {
   "cell_type": "code",
   "execution_count": 85,
   "id": "bbab6968",
   "metadata": {},
   "outputs": [
    {
     "data": {
      "text/plain": [
       "['timestamp', 'municipality_id', 'usage', 'total_capacity']"
      ]
     },
     "execution_count": 85,
     "metadata": {},
     "output_type": "execute_result"
    }
   ],
   "source": [
    "list(df.columns)"
   ]
  },
  {
   "cell_type": "code",
   "execution_count": 86,
   "id": "296c16ae",
   "metadata": {},
   "outputs": [
    {
     "data": {
      "text/html": [
       "<div>\n",
       "<style scoped>\n",
       "    .dataframe tbody tr th:only-of-type {\n",
       "        vertical-align: middle;\n",
       "    }\n",
       "\n",
       "    .dataframe tbody tr th {\n",
       "        vertical-align: top;\n",
       "    }\n",
       "\n",
       "    .dataframe thead th {\n",
       "        text-align: right;\n",
       "    }\n",
       "</style>\n",
       "<table border=\"1\" class=\"dataframe\">\n",
       "  <thead>\n",
       "    <tr style=\"text-align: right;\">\n",
       "      <th></th>\n",
       "      <th>count</th>\n",
       "      <th>mean</th>\n",
       "      <th>std</th>\n",
       "      <th>min</th>\n",
       "      <th>50%</th>\n",
       "      <th>max</th>\n",
       "    </tr>\n",
       "  </thead>\n",
       "  <tbody>\n",
       "    <tr>\n",
       "      <th>municipality_id</th>\n",
       "      <td>13070.0</td>\n",
       "      <td>4.500000</td>\n",
       "      <td>2.872391</td>\n",
       "      <td>0.0</td>\n",
       "      <td>4.5</td>\n",
       "      <td>9.0</td>\n",
       "    </tr>\n",
       "    <tr>\n",
       "      <th>usage</th>\n",
       "      <td>13070.0</td>\n",
       "      <td>876.002984</td>\n",
       "      <td>679.287109</td>\n",
       "      <td>11.0</td>\n",
       "      <td>692.0</td>\n",
       "      <td>3508.0</td>\n",
       "    </tr>\n",
       "    <tr>\n",
       "      <th>total_capacity</th>\n",
       "      <td>13070.0</td>\n",
       "      <td>1972.800000</td>\n",
       "      <td>1144.074782</td>\n",
       "      <td>397.0</td>\n",
       "      <td>1974.5</td>\n",
       "      <td>3893.0</td>\n",
       "    </tr>\n",
       "  </tbody>\n",
       "</table>\n",
       "</div>"
      ],
      "text/plain": [
       "                   count         mean          std    min     50%     max\n",
       "municipality_id  13070.0     4.500000     2.872391    0.0     4.5     9.0\n",
       "usage            13070.0   876.002984   679.287109   11.0   692.0  3508.0\n",
       "total_capacity   13070.0  1972.800000  1144.074782  397.0  1974.5  3893.0"
      ]
     },
     "execution_count": 86,
     "metadata": {},
     "output_type": "execute_result"
    }
   ],
   "source": [
    "df.describe([]).T"
   ]
  },
  {
   "cell_type": "markdown",
   "id": "441bb7cd",
   "metadata": {},
   "source": [
    "# Exploratory Data Analysis"
   ]
  },
  {
   "cell_type": "code",
   "execution_count": 87,
   "id": "4f0a4671",
   "metadata": {},
   "outputs": [],
   "source": [
    "df = df.sort_values(['timestamp','municipality_id'],ascending=[True,True])"
   ]
  },
  {
   "cell_type": "code",
   "execution_count": 88,
   "id": "3b027818",
   "metadata": {},
   "outputs": [
    {
     "name": "stdout",
     "output_type": "stream",
     "text": [
      "<class 'pandas.core.frame.DataFrame'>\n",
      "Int64Index: 13070 entries, 3 to 13063\n",
      "Data columns (total 4 columns):\n",
      " #   Column           Non-Null Count  Dtype \n",
      "---  ------           --------------  ----- \n",
      " 0   timestamp        13070 non-null  object\n",
      " 1   municipality_id  13070 non-null  int64 \n",
      " 2   usage            13070 non-null  int64 \n",
      " 3   total_capacity   13070 non-null  int64 \n",
      "dtypes: int64(3), object(1)\n",
      "memory usage: 510.5+ KB\n"
     ]
    }
   ],
   "source": [
    "df.info()"
   ]
  },
  {
   "cell_type": "code",
   "execution_count": 89,
   "id": "d0867e9e",
   "metadata": {},
   "outputs": [
    {
     "data": {
      "text/plain": [
       "timestamp          0\n",
       "municipality_id    0\n",
       "usage              0\n",
       "total_capacity     0\n",
       "dtype: int64"
      ]
     },
     "execution_count": 89,
     "metadata": {},
     "output_type": "execute_result"
    }
   ],
   "source": [
    "df.isnull().sum()"
   ]
  },
  {
   "cell_type": "code",
   "execution_count": 90,
   "id": "25248129",
   "metadata": {},
   "outputs": [],
   "source": [
    "def display_percent_missing(data):\n",
    "    percent_missing = data.isnull().sum() *100 / len(data)\n",
    "    missing_value_df = pd.DataFrame({'column_name': data.columns, \n",
    "                                     'percent_missing': percent_missing})\n",
    "    \n",
    "    display(missing_value_df.sort_values(by='percent_missing', ascending=False).head(25))\n",
    "    return(missing_value_df)"
   ]
  },
  {
   "cell_type": "code",
   "execution_count": 91,
   "id": "29fdd4d4",
   "metadata": {},
   "outputs": [
    {
     "data": {
      "text/html": [
       "<div>\n",
       "<style scoped>\n",
       "    .dataframe tbody tr th:only-of-type {\n",
       "        vertical-align: middle;\n",
       "    }\n",
       "\n",
       "    .dataframe tbody tr th {\n",
       "        vertical-align: top;\n",
       "    }\n",
       "\n",
       "    .dataframe thead th {\n",
       "        text-align: right;\n",
       "    }\n",
       "</style>\n",
       "<table border=\"1\" class=\"dataframe\">\n",
       "  <thead>\n",
       "    <tr style=\"text-align: right;\">\n",
       "      <th></th>\n",
       "      <th>column_name</th>\n",
       "      <th>percent_missing</th>\n",
       "    </tr>\n",
       "  </thead>\n",
       "  <tbody>\n",
       "    <tr>\n",
       "      <th>timestamp</th>\n",
       "      <td>timestamp</td>\n",
       "      <td>0.0</td>\n",
       "    </tr>\n",
       "    <tr>\n",
       "      <th>municipality_id</th>\n",
       "      <td>municipality_id</td>\n",
       "      <td>0.0</td>\n",
       "    </tr>\n",
       "    <tr>\n",
       "      <th>usage</th>\n",
       "      <td>usage</td>\n",
       "      <td>0.0</td>\n",
       "    </tr>\n",
       "    <tr>\n",
       "      <th>total_capacity</th>\n",
       "      <td>total_capacity</td>\n",
       "      <td>0.0</td>\n",
       "    </tr>\n",
       "  </tbody>\n",
       "</table>\n",
       "</div>"
      ],
      "text/plain": [
       "                     column_name  percent_missing\n",
       "timestamp              timestamp              0.0\n",
       "municipality_id  municipality_id              0.0\n",
       "usage                      usage              0.0\n",
       "total_capacity    total_capacity              0.0"
      ]
     },
     "metadata": {},
     "output_type": "display_data"
    }
   ],
   "source": [
    "missing_value_bireysel= display_percent_missing(df)"
   ]
  },
  {
   "cell_type": "markdown",
   "id": "122f09eb",
   "metadata": {},
   "source": [
    "# Filling The Missing Value"
   ]
  },
  {
   "cell_type": "code",
   "execution_count": 92,
   "id": "2a692e0e",
   "metadata": {},
   "outputs": [],
   "source": [
    "df['municipality_id'].fillna(0, inplace=True) # Uniq value filling 0\n",
    "df['usage'].fillna(df['usage'].mode().iloc[0], inplace=True)  \n",
    "df['total_capacity'].fillna(df['total_capacity'].mode().iloc[0], inplace=True)"
   ]
  },
  {
   "cell_type": "code",
   "execution_count": 93,
   "id": "953b43e2",
   "metadata": {},
   "outputs": [
    {
     "data": {
      "text/plain": [
       "['timestamp']"
      ]
     },
     "execution_count": 93,
     "metadata": {},
     "output_type": "execute_result"
    }
   ],
   "source": [
    "cat_column=df.select_dtypes(include=['object','category','datetime'])\n",
    "list(cat_column)"
   ]
  },
  {
   "cell_type": "code",
   "execution_count": 94,
   "id": "00c80b8c",
   "metadata": {},
   "outputs": [
    {
     "data": {
      "text/plain": [
       "['municipality_id', 'usage', 'total_capacity']"
      ]
     },
     "execution_count": 94,
     "metadata": {},
     "output_type": "execute_result"
    }
   ],
   "source": [
    "num_column=df.select_dtypes(exclude=['object','category','datetime'])\n",
    "list(num_column)"
   ]
  },
  {
   "cell_type": "markdown",
   "id": "b5226815",
   "metadata": {},
   "source": [
    "# Imputation"
   ]
  },
  {
   "cell_type": "code",
   "execution_count": 95,
   "id": "5dfe07e4",
   "metadata": {},
   "outputs": [],
   "source": [
    "from sklearn.impute import SimpleImputer"
   ]
  },
  {
   "cell_type": "code",
   "execution_count": 96,
   "id": "9a3d9962",
   "metadata": {},
   "outputs": [],
   "source": [
    "municipality_id = df.iloc[:,1:2].values\n",
    "municipality_id = pd.DataFrame(data=municipality_id, columns = ['municipality_id'])"
   ]
  },
  {
   "cell_type": "code",
   "execution_count": 97,
   "id": "614f0631",
   "metadata": {},
   "outputs": [
    {
     "data": {
      "text/html": [
       "<div>\n",
       "<style scoped>\n",
       "    .dataframe tbody tr th:only-of-type {\n",
       "        vertical-align: middle;\n",
       "    }\n",
       "\n",
       "    .dataframe tbody tr th {\n",
       "        vertical-align: top;\n",
       "    }\n",
       "\n",
       "    .dataframe thead th {\n",
       "        text-align: right;\n",
       "    }\n",
       "</style>\n",
       "<table border=\"1\" class=\"dataframe\">\n",
       "  <thead>\n",
       "    <tr style=\"text-align: right;\">\n",
       "      <th></th>\n",
       "      <th>municipality_id</th>\n",
       "    </tr>\n",
       "  </thead>\n",
       "  <tbody>\n",
       "    <tr>\n",
       "      <th>0</th>\n",
       "      <td>0</td>\n",
       "    </tr>\n",
       "    <tr>\n",
       "      <th>1</th>\n",
       "      <td>1</td>\n",
       "    </tr>\n",
       "    <tr>\n",
       "      <th>2</th>\n",
       "      <td>2</td>\n",
       "    </tr>\n",
       "    <tr>\n",
       "      <th>3</th>\n",
       "      <td>3</td>\n",
       "    </tr>\n",
       "    <tr>\n",
       "      <th>4</th>\n",
       "      <td>4</td>\n",
       "    </tr>\n",
       "    <tr>\n",
       "      <th>...</th>\n",
       "      <td>...</td>\n",
       "    </tr>\n",
       "    <tr>\n",
       "      <th>13065</th>\n",
       "      <td>5</td>\n",
       "    </tr>\n",
       "    <tr>\n",
       "      <th>13066</th>\n",
       "      <td>6</td>\n",
       "    </tr>\n",
       "    <tr>\n",
       "      <th>13067</th>\n",
       "      <td>7</td>\n",
       "    </tr>\n",
       "    <tr>\n",
       "      <th>13068</th>\n",
       "      <td>8</td>\n",
       "    </tr>\n",
       "    <tr>\n",
       "      <th>13069</th>\n",
       "      <td>9</td>\n",
       "    </tr>\n",
       "  </tbody>\n",
       "</table>\n",
       "<p>13070 rows × 1 columns</p>\n",
       "</div>"
      ],
      "text/plain": [
       "       municipality_id\n",
       "0                    0\n",
       "1                    1\n",
       "2                    2\n",
       "3                    3\n",
       "4                    4\n",
       "...                ...\n",
       "13065                5\n",
       "13066                6\n",
       "13067                7\n",
       "13068                8\n",
       "13069                9\n",
       "\n",
       "[13070 rows x 1 columns]"
      ]
     },
     "execution_count": 97,
     "metadata": {},
     "output_type": "execute_result"
    }
   ],
   "source": [
    "municipality_id"
   ]
  },
  {
   "cell_type": "code",
   "execution_count": 98,
   "id": "776dbdd5",
   "metadata": {},
   "outputs": [
    {
     "name": "stdout",
     "output_type": "stream",
     "text": [
      "[[ 204 2813]\n",
      " [ 129  397]\n",
      " [ 273  697]\n",
      " ...\n",
      " [1354 2019]\n",
      " [1193 2947]\n",
      " [ 815 1332]]\n"
     ]
    }
   ],
   "source": [
    "others = df.iloc[:,2:4].values\n",
    "imputer = SimpleImputer(missing_values=np.nan, strategy='mean')\n",
    "impdata = others[:,:]\n",
    "imputer = imputer.fit(impdata[:,:])\n",
    "impdata[:,:] = imputer.transform(impdata[:,:])\n",
    "finalothers = impdata[:,:]\n",
    "print(finalothers)\n",
    "finalothers = pd.DataFrame(data=finalothers, columns = ['usage', 'total_capacity'])\n",
    "df = pd.concat([df['timestamp'], municipality_id], axis=1)\n",
    "df = pd.concat([df, finalothers], axis=1)"
   ]
  },
  {
   "cell_type": "code",
   "execution_count": 99,
   "id": "38cb9ccf",
   "metadata": {},
   "outputs": [
    {
     "data": {
      "text/html": [
       "<div>\n",
       "<style scoped>\n",
       "    .dataframe tbody tr th:only-of-type {\n",
       "        vertical-align: middle;\n",
       "    }\n",
       "\n",
       "    .dataframe tbody tr th {\n",
       "        vertical-align: top;\n",
       "    }\n",
       "\n",
       "    .dataframe thead th {\n",
       "        text-align: right;\n",
       "    }\n",
       "</style>\n",
       "<table border=\"1\" class=\"dataframe\">\n",
       "  <thead>\n",
       "    <tr style=\"text-align: right;\">\n",
       "      <th></th>\n",
       "      <th>timestamp</th>\n",
       "      <th>municipality_id</th>\n",
       "      <th>usage</th>\n",
       "      <th>total_capacity</th>\n",
       "    </tr>\n",
       "  </thead>\n",
       "  <tbody>\n",
       "    <tr>\n",
       "      <th>0</th>\n",
       "      <td>2017-06-04 07:59:42</td>\n",
       "      <td>0</td>\n",
       "      <td>204</td>\n",
       "      <td>2813</td>\n",
       "    </tr>\n",
       "    <tr>\n",
       "      <th>1</th>\n",
       "      <td>2017-06-04 07:59:42</td>\n",
       "      <td>1</td>\n",
       "      <td>129</td>\n",
       "      <td>397</td>\n",
       "    </tr>\n",
       "    <tr>\n",
       "      <th>2</th>\n",
       "      <td>2017-06-04 07:59:42</td>\n",
       "      <td>2</td>\n",
       "      <td>273</td>\n",
       "      <td>697</td>\n",
       "    </tr>\n",
       "    <tr>\n",
       "      <th>3</th>\n",
       "      <td>2017-06-04 07:59:42</td>\n",
       "      <td>3</td>\n",
       "      <td>623</td>\n",
       "      <td>1930</td>\n",
       "    </tr>\n",
       "    <tr>\n",
       "      <th>4</th>\n",
       "      <td>2017-06-04 07:59:42</td>\n",
       "      <td>4</td>\n",
       "      <td>1090</td>\n",
       "      <td>3893</td>\n",
       "    </tr>\n",
       "    <tr>\n",
       "      <th>...</th>\n",
       "      <td>...</td>\n",
       "      <td>...</td>\n",
       "      <td>...</td>\n",
       "      <td>...</td>\n",
       "    </tr>\n",
       "    <tr>\n",
       "      <th>13065</th>\n",
       "      <td>2017-08-19 16:30:35</td>\n",
       "      <td>5</td>\n",
       "      <td>202</td>\n",
       "      <td>587</td>\n",
       "    </tr>\n",
       "    <tr>\n",
       "      <th>13066</th>\n",
       "      <td>2017-08-19 16:30:35</td>\n",
       "      <td>6</td>\n",
       "      <td>1680</td>\n",
       "      <td>3113</td>\n",
       "    </tr>\n",
       "    <tr>\n",
       "      <th>13067</th>\n",
       "      <td>2017-08-19 16:30:35</td>\n",
       "      <td>7</td>\n",
       "      <td>1354</td>\n",
       "      <td>2019</td>\n",
       "    </tr>\n",
       "    <tr>\n",
       "      <th>13068</th>\n",
       "      <td>2017-08-19 16:30:35</td>\n",
       "      <td>8</td>\n",
       "      <td>1193</td>\n",
       "      <td>2947</td>\n",
       "    </tr>\n",
       "    <tr>\n",
       "      <th>13069</th>\n",
       "      <td>2017-08-19 16:30:35</td>\n",
       "      <td>9</td>\n",
       "      <td>815</td>\n",
       "      <td>1332</td>\n",
       "    </tr>\n",
       "  </tbody>\n",
       "</table>\n",
       "<p>13070 rows × 4 columns</p>\n",
       "</div>"
      ],
      "text/plain": [
       "                 timestamp  municipality_id  usage  total_capacity\n",
       "0      2017-06-04 07:59:42                0    204            2813\n",
       "1      2017-06-04 07:59:42                1    129             397\n",
       "2      2017-06-04 07:59:42                2    273             697\n",
       "3      2017-06-04 07:59:42                3    623            1930\n",
       "4      2017-06-04 07:59:42                4   1090            3893\n",
       "...                    ...              ...    ...             ...\n",
       "13065  2017-08-19 16:30:35                5    202             587\n",
       "13066  2017-08-19 16:30:35                6   1680            3113\n",
       "13067  2017-08-19 16:30:35                7   1354            2019\n",
       "13068  2017-08-19 16:30:35                8   1193            2947\n",
       "13069  2017-08-19 16:30:35                9    815            1332\n",
       "\n",
       "[13070 rows x 4 columns]"
      ]
     },
     "execution_count": 99,
     "metadata": {},
     "output_type": "execute_result"
    }
   ],
   "source": [
    "df"
   ]
  },
  {
   "cell_type": "markdown",
   "id": "152186cd",
   "metadata": {},
   "source": [
    "# Outlier Detection & Drop"
   ]
  },
  {
   "cell_type": "code",
   "execution_count": 100,
   "id": "347f3233",
   "metadata": {},
   "outputs": [
    {
     "data": {
      "image/png": "[encoded data removed]",
      "text/plain": [
       "<Figure size 432x288 with 1 Axes>"
      ]
     },
     "metadata": {},
     "output_type": "display_data"
    },
    {
     "data": {
      "image/png": "[encoded data removed]",
      "text/plain": [
       "<Figure size 432x288 with 1 Axes>"
      ]
     },
     "metadata": {},
     "output_type": "display_data"
    },
    {
     "data": {
      "image/png": "[encoded data removed]",
      "text/plain": [
       "<Figure size 432x288 with 1 Axes>"
      ]
     },
     "metadata": {},
     "output_type": "display_data"
    }
   ],
   "source": [
    "for i in num_column:\n",
    "    sns.boxplot(x=df[i])\n",
    "    plt.show()"
   ]
  },
  {
   "cell_type": "code",
   "execution_count": 101,
   "id": "d55bc286",
   "metadata": {},
   "outputs": [],
   "source": [
    "#Remove Outlier\n",
    "def detect_outliers_index(dataframe, column):\n",
    "    Q1=dataframe[column].quantile(0.25)\n",
    "    Q3=dataframe[column].quantile(0.75)\n",
    "    IQR=Q3-Q1\n",
    "    \n",
    "    lower_bound=Q1-1.5*IQR\n",
    "    upper_bound=Q3+1.5*IQR\n",
    "    \n",
    "    ls=dataframe.index[(dataframe[column]<lower_bound)|(dataframe[column]>upper_bound)]\n",
    "    return ls\n"
   ]
  },
  {
   "cell_type": "code",
   "execution_count": 102,
   "id": "e06b400b",
   "metadata": {},
   "outputs": [],
   "source": [
    "def detect_outliers(df, cols):\n",
    "    Q1 = df[cols].quantile(0.25)\n",
    "    Q3 = df[cols].quantile(0.75)\n",
    "    IQR = Q3 - Q1\n",
    "    outliers = df[((df[cols] < (Q1 - 1.5 * IQR)) |(df[cols] > (Q3 + 1.5 * IQR))).any(axis=1)]\n",
    "    \n",
    "    return outliers"
   ]
  },
  {
   "cell_type": "code",
   "execution_count": 103,
   "id": "c6472f9a",
   "metadata": {},
   "outputs": [],
   "source": [
    "out_df=detect_outliers(num_column,num_column.columns)"
   ]
  },
  {
   "cell_type": "code",
   "execution_count": 104,
   "id": "0db97e6d",
   "metadata": {},
   "outputs": [
    {
     "data": {
      "text/html": [
       "<div>\n",
       "<style scoped>\n",
       "    .dataframe tbody tr th:only-of-type {\n",
       "        vertical-align: middle;\n",
       "    }\n",
       "\n",
       "    .dataframe tbody tr th {\n",
       "        vertical-align: top;\n",
       "    }\n",
       "\n",
       "    .dataframe thead th {\n",
       "        text-align: right;\n",
       "    }\n",
       "</style>\n",
       "<table border=\"1\" class=\"dataframe\">\n",
       "  <thead>\n",
       "    <tr style=\"text-align: right;\">\n",
       "      <th></th>\n",
       "      <th>municipality_id</th>\n",
       "      <th>usage</th>\n",
       "      <th>total_capacity</th>\n",
       "    </tr>\n",
       "  </thead>\n",
       "  <tbody>\n",
       "    <tr>\n",
       "      <th>33</th>\n",
       "      <td>4</td>\n",
       "      <td>2511</td>\n",
       "      <td>3893</td>\n",
       "    </tr>\n",
       "    <tr>\n",
       "      <th>43</th>\n",
       "      <td>4</td>\n",
       "      <td>2811</td>\n",
       "      <td>3893</td>\n",
       "    </tr>\n",
       "    <tr>\n",
       "      <th>57</th>\n",
       "      <td>4</td>\n",
       "      <td>3044</td>\n",
       "      <td>3893</td>\n",
       "    </tr>\n",
       "    <tr>\n",
       "      <th>60</th>\n",
       "      <td>4</td>\n",
       "      <td>3178</td>\n",
       "      <td>3893</td>\n",
       "    </tr>\n",
       "    <tr>\n",
       "      <th>70</th>\n",
       "      <td>4</td>\n",
       "      <td>3230</td>\n",
       "      <td>3893</td>\n",
       "    </tr>\n",
       "    <tr>\n",
       "      <th>...</th>\n",
       "      <td>...</td>\n",
       "      <td>...</td>\n",
       "      <td>...</td>\n",
       "    </tr>\n",
       "    <tr>\n",
       "      <th>13023</th>\n",
       "      <td>4</td>\n",
       "      <td>3176</td>\n",
       "      <td>3893</td>\n",
       "    </tr>\n",
       "    <tr>\n",
       "      <th>13036</th>\n",
       "      <td>4</td>\n",
       "      <td>3111</td>\n",
       "      <td>3893</td>\n",
       "    </tr>\n",
       "    <tr>\n",
       "      <th>13044</th>\n",
       "      <td>4</td>\n",
       "      <td>2980</td>\n",
       "      <td>3893</td>\n",
       "    </tr>\n",
       "    <tr>\n",
       "      <th>13050</th>\n",
       "      <td>4</td>\n",
       "      <td>2779</td>\n",
       "      <td>3893</td>\n",
       "    </tr>\n",
       "    <tr>\n",
       "      <th>13060</th>\n",
       "      <td>4</td>\n",
       "      <td>2542</td>\n",
       "      <td>3893</td>\n",
       "    </tr>\n",
       "  </tbody>\n",
       "</table>\n",
       "<p>734 rows × 3 columns</p>\n",
       "</div>"
      ],
      "text/plain": [
       "       municipality_id  usage  total_capacity\n",
       "33                   4   2511            3893\n",
       "43                   4   2811            3893\n",
       "57                   4   3044            3893\n",
       "60                   4   3178            3893\n",
       "70                   4   3230            3893\n",
       "...                ...    ...             ...\n",
       "13023                4   3176            3893\n",
       "13036                4   3111            3893\n",
       "13044                4   2980            3893\n",
       "13050                4   2779            3893\n",
       "13060                4   2542            3893\n",
       "\n",
       "[734 rows x 3 columns]"
      ]
     },
     "execution_count": 104,
     "metadata": {},
     "output_type": "execute_result"
    }
   ],
   "source": [
    "out_df"
   ]
  },
  {
   "cell_type": "code",
   "execution_count": 105,
   "id": "b0cb5f92",
   "metadata": {},
   "outputs": [
    {
     "name": "stdout",
     "output_type": "stream",
     "text": [
      "Verisetinin outlier oranı --->>> %5.615914307574598\n",
      "Örnek outlier:\n"
     ]
    },
    {
     "data": {
      "text/html": [
       "<div>\n",
       "<style scoped>\n",
       "    .dataframe tbody tr th:only-of-type {\n",
       "        vertical-align: middle;\n",
       "    }\n",
       "\n",
       "    .dataframe tbody tr th {\n",
       "        vertical-align: top;\n",
       "    }\n",
       "\n",
       "    .dataframe thead th {\n",
       "        text-align: right;\n",
       "    }\n",
       "</style>\n",
       "<table border=\"1\" class=\"dataframe\">\n",
       "  <thead>\n",
       "    <tr style=\"text-align: right;\">\n",
       "      <th></th>\n",
       "      <th>municipality_id</th>\n",
       "      <th>usage</th>\n",
       "      <th>total_capacity</th>\n",
       "    </tr>\n",
       "  </thead>\n",
       "  <tbody>\n",
       "    <tr>\n",
       "      <th>33</th>\n",
       "      <td>4</td>\n",
       "      <td>2511</td>\n",
       "      <td>3893</td>\n",
       "    </tr>\n",
       "    <tr>\n",
       "      <th>43</th>\n",
       "      <td>4</td>\n",
       "      <td>2811</td>\n",
       "      <td>3893</td>\n",
       "    </tr>\n",
       "    <tr>\n",
       "      <th>57</th>\n",
       "      <td>4</td>\n",
       "      <td>3044</td>\n",
       "      <td>3893</td>\n",
       "    </tr>\n",
       "    <tr>\n",
       "      <th>60</th>\n",
       "      <td>4</td>\n",
       "      <td>3178</td>\n",
       "      <td>3893</td>\n",
       "    </tr>\n",
       "    <tr>\n",
       "      <th>70</th>\n",
       "      <td>4</td>\n",
       "      <td>3230</td>\n",
       "      <td>3893</td>\n",
       "    </tr>\n",
       "    <tr>\n",
       "      <th>87</th>\n",
       "      <td>4</td>\n",
       "      <td>3257</td>\n",
       "      <td>3893</td>\n",
       "    </tr>\n",
       "    <tr>\n",
       "      <th>96</th>\n",
       "      <td>4</td>\n",
       "      <td>3260</td>\n",
       "      <td>3893</td>\n",
       "    </tr>\n",
       "    <tr>\n",
       "      <th>108</th>\n",
       "      <td>4</td>\n",
       "      <td>3241</td>\n",
       "      <td>3893</td>\n",
       "    </tr>\n",
       "  </tbody>\n",
       "</table>\n",
       "</div>"
      ],
      "text/plain": [
       "     municipality_id  usage  total_capacity\n",
       "33                 4   2511            3893\n",
       "43                 4   2811            3893\n",
       "57                 4   3044            3893\n",
       "60                 4   3178            3893\n",
       "70                 4   3230            3893\n",
       "87                 4   3257            3893\n",
       "96                 4   3260            3893\n",
       "108                4   3241            3893"
      ]
     },
     "execution_count": 105,
     "metadata": {},
     "output_type": "execute_result"
    }
   ],
   "source": [
    "print('Verisetinin outlier oranı --->>> %' + str((out_df.shape[0] / num_column.shape[0] *100)))\n",
    "print('Örnek outlier:')\n",
    "out_df.head(8)"
   ]
  },
  {
   "cell_type": "markdown",
   "id": "15b645f3",
   "metadata": {},
   "source": [
    "# Setting the outlier values to min-max"
   ]
  },
  {
   "cell_type": "code",
   "execution_count": 106,
   "id": "06c27681",
   "metadata": {},
   "outputs": [],
   "source": [
    "def cap_outliers(series, iqr_threshold=1.5, verbose=False):\n",
    "    Q1 = series.quantile(0.25)\n",
    "    Q3 = series.quantile(0.75)\n",
    "    IQR = Q3 - Q1\n",
    "\n",
    "    lbound = Q1 - iqr_threshold * IQR\n",
    "    ubound = Q3 + iqr_threshold * IQR\n",
    "\n",
    "    outliers = (series < lbound) | (series > ubound)\n",
    "\n",
    "    series = series.copy()\n",
    "    series.loc[series < lbound] = series.loc[~outliers].min()\n",
    "    series.loc[series > ubound] = series.loc[~outliers].max()\n",
    "\n",
    "    return series"
   ]
  },
  {
   "cell_type": "code",
   "execution_count": 107,
   "id": "bdf84a58",
   "metadata": {},
   "outputs": [],
   "source": [
    "df_setting_outlier=df.copy()"
   ]
  },
  {
   "cell_type": "code",
   "execution_count": 108,
   "id": "79f683aa",
   "metadata": {},
   "outputs": [],
   "source": [
    "for feature in num_column:\n",
    "    df_setting_outlier[feature] = cap_outliers(df[feature], verbose=True)"
   ]
  },
  {
   "cell_type": "code",
   "execution_count": 109,
   "id": "cd0af0a6",
   "metadata": {},
   "outputs": [],
   "source": [
    "df_setting_outlier_num=df_setting_outlier.select_dtypes(exclude=['object','category','datetime'])"
   ]
  },
  {
   "cell_type": "code",
   "execution_count": 110,
   "id": "d24f0856",
   "metadata": {},
   "outputs": [],
   "source": [
    "df_setting_outlier_OUT=detect_outliers(df_setting_outlier_num,df_setting_outlier_num.columns)"
   ]
  },
  {
   "cell_type": "code",
   "execution_count": 111,
   "id": "16ca7a4d",
   "metadata": {},
   "outputs": [
    {
     "name": "stdout",
     "output_type": "stream",
     "text": [
      "Verisetinin outlier oranı --->>> %0.0\n"
     ]
    }
   ],
   "source": [
    "print('Verisetinin outlier oranı --->>> %' + str((df_setting_outlier_OUT.shape[0] / df_setting_outlier_num.shape[0] *100)))\n"
   ]
  },
  {
   "cell_type": "code",
   "execution_count": 112,
   "id": "270eeb1a",
   "metadata": {},
   "outputs": [],
   "source": [
    "df=df_setting_outlier.copy()"
   ]
  },
  {
   "cell_type": "code",
   "execution_count": 113,
   "id": "3840d9a6",
   "metadata": {},
   "outputs": [
    {
     "data": {
      "text/html": [
       "<div>\n",
       "<style scoped>\n",
       "    .dataframe tbody tr th:only-of-type {\n",
       "        vertical-align: middle;\n",
       "    }\n",
       "\n",
       "    .dataframe tbody tr th {\n",
       "        vertical-align: top;\n",
       "    }\n",
       "\n",
       "    .dataframe thead th {\n",
       "        text-align: right;\n",
       "    }\n",
       "</style>\n",
       "<table border=\"1\" class=\"dataframe\">\n",
       "  <thead>\n",
       "    <tr style=\"text-align: right;\">\n",
       "      <th></th>\n",
       "      <th>timestamp</th>\n",
       "      <th>municipality_id</th>\n",
       "      <th>usage</th>\n",
       "      <th>total_capacity</th>\n",
       "    </tr>\n",
       "  </thead>\n",
       "  <tbody>\n",
       "    <tr>\n",
       "      <th>0</th>\n",
       "      <td>2017-06-04 07:59:42</td>\n",
       "      <td>0</td>\n",
       "      <td>204</td>\n",
       "      <td>2813</td>\n",
       "    </tr>\n",
       "    <tr>\n",
       "      <th>1</th>\n",
       "      <td>2017-06-04 07:59:42</td>\n",
       "      <td>1</td>\n",
       "      <td>129</td>\n",
       "      <td>397</td>\n",
       "    </tr>\n",
       "    <tr>\n",
       "      <th>2</th>\n",
       "      <td>2017-06-04 07:59:42</td>\n",
       "      <td>2</td>\n",
       "      <td>273</td>\n",
       "      <td>697</td>\n",
       "    </tr>\n",
       "    <tr>\n",
       "      <th>3</th>\n",
       "      <td>2017-06-04 07:59:42</td>\n",
       "      <td>3</td>\n",
       "      <td>623</td>\n",
       "      <td>1930</td>\n",
       "    </tr>\n",
       "    <tr>\n",
       "      <th>4</th>\n",
       "      <td>2017-06-04 07:59:42</td>\n",
       "      <td>4</td>\n",
       "      <td>1090</td>\n",
       "      <td>3893</td>\n",
       "    </tr>\n",
       "    <tr>\n",
       "      <th>...</th>\n",
       "      <td>...</td>\n",
       "      <td>...</td>\n",
       "      <td>...</td>\n",
       "      <td>...</td>\n",
       "    </tr>\n",
       "    <tr>\n",
       "      <th>13065</th>\n",
       "      <td>2017-08-19 16:30:35</td>\n",
       "      <td>5</td>\n",
       "      <td>202</td>\n",
       "      <td>587</td>\n",
       "    </tr>\n",
       "    <tr>\n",
       "      <th>13066</th>\n",
       "      <td>2017-08-19 16:30:35</td>\n",
       "      <td>6</td>\n",
       "      <td>1680</td>\n",
       "      <td>3113</td>\n",
       "    </tr>\n",
       "    <tr>\n",
       "      <th>13067</th>\n",
       "      <td>2017-08-19 16:30:35</td>\n",
       "      <td>7</td>\n",
       "      <td>1354</td>\n",
       "      <td>2019</td>\n",
       "    </tr>\n",
       "    <tr>\n",
       "      <th>13068</th>\n",
       "      <td>2017-08-19 16:30:35</td>\n",
       "      <td>8</td>\n",
       "      <td>1193</td>\n",
       "      <td>2947</td>\n",
       "    </tr>\n",
       "    <tr>\n",
       "      <th>13069</th>\n",
       "      <td>2017-08-19 16:30:35</td>\n",
       "      <td>9</td>\n",
       "      <td>815</td>\n",
       "      <td>1332</td>\n",
       "    </tr>\n",
       "  </tbody>\n",
       "</table>\n",
       "<p>13070 rows × 4 columns</p>\n",
       "</div>"
      ],
      "text/plain": [
       "                 timestamp  municipality_id  usage  total_capacity\n",
       "0      2017-06-04 07:59:42                0    204            2813\n",
       "1      2017-06-04 07:59:42                1    129             397\n",
       "2      2017-06-04 07:59:42                2    273             697\n",
       "3      2017-06-04 07:59:42                3    623            1930\n",
       "4      2017-06-04 07:59:42                4   1090            3893\n",
       "...                    ...              ...    ...             ...\n",
       "13065  2017-08-19 16:30:35                5    202             587\n",
       "13066  2017-08-19 16:30:35                6   1680            3113\n",
       "13067  2017-08-19 16:30:35                7   1354            2019\n",
       "13068  2017-08-19 16:30:35                8   1193            2947\n",
       "13069  2017-08-19 16:30:35                9    815            1332\n",
       "\n",
       "[13070 rows x 4 columns]"
      ]
     },
     "execution_count": 113,
     "metadata": {},
     "output_type": "execute_result"
    }
   ],
   "source": [
    "df"
   ]
  },
  {
   "cell_type": "markdown",
   "id": "37723e22",
   "metadata": {},
   "source": [
    "# Create Model"
   ]
  },
  {
   "cell_type": "code",
   "execution_count": 114,
   "id": "e6010ec4",
   "metadata": {},
   "outputs": [],
   "source": [
    "df['timestamp'] = pd.to_datetime(df['timestamp'], dayfirst=True)"
   ]
  },
  {
   "cell_type": "code",
   "execution_count": 115,
   "id": "06a79716",
   "metadata": {},
   "outputs": [
    {
     "data": {
      "text/plain": [
       "Timestamp('2017-06-04 07:59:42')"
      ]
     },
     "execution_count": 115,
     "metadata": {},
     "output_type": "execute_result"
    }
   ],
   "source": [
    "df['timestamp'].min()"
   ]
  },
  {
   "cell_type": "code",
   "execution_count": 116,
   "id": "0147104d",
   "metadata": {},
   "outputs": [
    {
     "data": {
      "text/plain": [
       "Timestamp('2017-08-19 16:30:35')"
      ]
     },
     "execution_count": 116,
     "metadata": {},
     "output_type": "execute_result"
    }
   ],
   "source": [
    "df['timestamp'].max()"
   ]
  },
  {
   "cell_type": "code",
   "execution_count": 117,
   "id": "f559c357",
   "metadata": {},
   "outputs": [],
   "source": [
    "test_data = pd.DataFrame()\n",
    "train_data = pd.DataFrame()"
   ]
  },
  {
   "cell_type": "code",
   "execution_count": 118,
   "id": "cbf67a0f",
   "metadata": {},
   "outputs": [],
   "source": [
    "train_data = df.query('timestamp < 20170804')          \n",
    "test_data= df.query('20170805 <= timestamp <= 20170819')   "
   ]
  },
  {
   "cell_type": "code",
   "execution_count": 119,
   "id": "a5dc8fea",
   "metadata": {},
   "outputs": [
    {
     "name": "stdout",
     "output_type": "stream",
     "text": [
      "Train Set: (10390, 4)\n",
      "Test Set: (2500, 4)\n"
     ]
    }
   ],
   "source": [
    "print(\"Train Set:\", train_data.shape)\n",
    "print(\"Test Set:\", test_data.shape)"
   ]
  },
  {
   "cell_type": "code",
   "execution_count": 120,
   "id": "640b54cc",
   "metadata": {},
   "outputs": [
    {
     "data": {
      "text/html": [
       "<div>\n",
       "<style scoped>\n",
       "    .dataframe tbody tr th:only-of-type {\n",
       "        vertical-align: middle;\n",
       "    }\n",
       "\n",
       "    .dataframe tbody tr th {\n",
       "        vertical-align: top;\n",
       "    }\n",
       "\n",
       "    .dataframe thead th {\n",
       "        text-align: right;\n",
       "    }\n",
       "</style>\n",
       "<table border=\"1\" class=\"dataframe\">\n",
       "  <thead>\n",
       "    <tr style=\"text-align: right;\">\n",
       "      <th></th>\n",
       "      <th>timestamp</th>\n",
       "      <th>municipality_id</th>\n",
       "      <th>usage</th>\n",
       "      <th>total_capacity</th>\n",
       "    </tr>\n",
       "  </thead>\n",
       "  <tbody>\n",
       "    <tr>\n",
       "      <th>10390</th>\n",
       "      <td>2017-08-05 08:02:03</td>\n",
       "      <td>0</td>\n",
       "      <td>209</td>\n",
       "      <td>2813</td>\n",
       "    </tr>\n",
       "    <tr>\n",
       "      <th>10391</th>\n",
       "      <td>2017-08-05 08:02:03</td>\n",
       "      <td>1</td>\n",
       "      <td>141</td>\n",
       "      <td>397</td>\n",
       "    </tr>\n",
       "    <tr>\n",
       "      <th>10392</th>\n",
       "      <td>2017-08-05 08:02:03</td>\n",
       "      <td>2</td>\n",
       "      <td>286</td>\n",
       "      <td>697</td>\n",
       "    </tr>\n",
       "    <tr>\n",
       "      <th>10393</th>\n",
       "      <td>2017-08-05 08:02:03</td>\n",
       "      <td>3</td>\n",
       "      <td>610</td>\n",
       "      <td>1930</td>\n",
       "    </tr>\n",
       "    <tr>\n",
       "      <th>10394</th>\n",
       "      <td>2017-08-05 08:02:03</td>\n",
       "      <td>4</td>\n",
       "      <td>1782</td>\n",
       "      <td>3893</td>\n",
       "    </tr>\n",
       "    <tr>\n",
       "      <th>...</th>\n",
       "      <td>...</td>\n",
       "      <td>...</td>\n",
       "      <td>...</td>\n",
       "      <td>...</td>\n",
       "    </tr>\n",
       "    <tr>\n",
       "      <th>12885</th>\n",
       "      <td>2017-08-18 16:30:25</td>\n",
       "      <td>5</td>\n",
       "      <td>215</td>\n",
       "      <td>587</td>\n",
       "    </tr>\n",
       "    <tr>\n",
       "      <th>12886</th>\n",
       "      <td>2017-08-18 16:30:25</td>\n",
       "      <td>6</td>\n",
       "      <td>1603</td>\n",
       "      <td>3113</td>\n",
       "    </tr>\n",
       "    <tr>\n",
       "      <th>12887</th>\n",
       "      <td>2017-08-18 16:30:25</td>\n",
       "      <td>7</td>\n",
       "      <td>1272</td>\n",
       "      <td>2019</td>\n",
       "    </tr>\n",
       "    <tr>\n",
       "      <th>12888</th>\n",
       "      <td>2017-08-18 16:30:25</td>\n",
       "      <td>8</td>\n",
       "      <td>928</td>\n",
       "      <td>2947</td>\n",
       "    </tr>\n",
       "    <tr>\n",
       "      <th>12889</th>\n",
       "      <td>2017-08-18 16:30:25</td>\n",
       "      <td>9</td>\n",
       "      <td>763</td>\n",
       "      <td>1332</td>\n",
       "    </tr>\n",
       "  </tbody>\n",
       "</table>\n",
       "<p>2500 rows × 4 columns</p>\n",
       "</div>"
      ],
      "text/plain": [
       "                timestamp  municipality_id  usage  total_capacity\n",
       "10390 2017-08-05 08:02:03                0    209            2813\n",
       "10391 2017-08-05 08:02:03                1    141             397\n",
       "10392 2017-08-05 08:02:03                2    286             697\n",
       "10393 2017-08-05 08:02:03                3    610            1930\n",
       "10394 2017-08-05 08:02:03                4   1782            3893\n",
       "...                   ...              ...    ...             ...\n",
       "12885 2017-08-18 16:30:25                5    215             587\n",
       "12886 2017-08-18 16:30:25                6   1603            3113\n",
       "12887 2017-08-18 16:30:25                7   1272            2019\n",
       "12888 2017-08-18 16:30:25                8    928            2947\n",
       "12889 2017-08-18 16:30:25                9    763            1332\n",
       "\n",
       "[2500 rows x 4 columns]"
      ]
     },
     "execution_count": 120,
     "metadata": {},
     "output_type": "execute_result"
    }
   ],
   "source": [
    "test_data"
   ]
  },
  {
   "cell_type": "code",
   "execution_count": 121,
   "id": "1da405af",
   "metadata": {},
   "outputs": [
    {
     "data": {
      "text/html": [
       "<div>\n",
       "<style scoped>\n",
       "    .dataframe tbody tr th:only-of-type {\n",
       "        vertical-align: middle;\n",
       "    }\n",
       "\n",
       "    .dataframe tbody tr th {\n",
       "        vertical-align: top;\n",
       "    }\n",
       "\n",
       "    .dataframe thead th {\n",
       "        text-align: right;\n",
       "    }\n",
       "</style>\n",
       "<table border=\"1\" class=\"dataframe\">\n",
       "  <thead>\n",
       "    <tr style=\"text-align: right;\">\n",
       "      <th></th>\n",
       "      <th>timestamp</th>\n",
       "      <th>municipality_id</th>\n",
       "      <th>usage</th>\n",
       "      <th>total_capacity</th>\n",
       "    </tr>\n",
       "  </thead>\n",
       "  <tbody>\n",
       "    <tr>\n",
       "      <th>0</th>\n",
       "      <td>2017-06-04 07:59:42</td>\n",
       "      <td>0</td>\n",
       "      <td>204</td>\n",
       "      <td>2813</td>\n",
       "    </tr>\n",
       "    <tr>\n",
       "      <th>1</th>\n",
       "      <td>2017-06-04 07:59:42</td>\n",
       "      <td>1</td>\n",
       "      <td>129</td>\n",
       "      <td>397</td>\n",
       "    </tr>\n",
       "    <tr>\n",
       "      <th>2</th>\n",
       "      <td>2017-06-04 07:59:42</td>\n",
       "      <td>2</td>\n",
       "      <td>273</td>\n",
       "      <td>697</td>\n",
       "    </tr>\n",
       "    <tr>\n",
       "      <th>3</th>\n",
       "      <td>2017-06-04 07:59:42</td>\n",
       "      <td>3</td>\n",
       "      <td>623</td>\n",
       "      <td>1930</td>\n",
       "    </tr>\n",
       "    <tr>\n",
       "      <th>4</th>\n",
       "      <td>2017-06-04 07:59:42</td>\n",
       "      <td>4</td>\n",
       "      <td>1090</td>\n",
       "      <td>3893</td>\n",
       "    </tr>\n",
       "    <tr>\n",
       "      <th>...</th>\n",
       "      <td>...</td>\n",
       "      <td>...</td>\n",
       "      <td>...</td>\n",
       "      <td>...</td>\n",
       "    </tr>\n",
       "    <tr>\n",
       "      <th>10385</th>\n",
       "      <td>2017-08-02 16:32:54</td>\n",
       "      <td>5</td>\n",
       "      <td>114</td>\n",
       "      <td>587</td>\n",
       "    </tr>\n",
       "    <tr>\n",
       "      <th>10386</th>\n",
       "      <td>2017-08-02 16:32:54</td>\n",
       "      <td>6</td>\n",
       "      <td>1018</td>\n",
       "      <td>3113</td>\n",
       "    </tr>\n",
       "    <tr>\n",
       "      <th>10387</th>\n",
       "      <td>2017-08-02 16:32:54</td>\n",
       "      <td>7</td>\n",
       "      <td>1169</td>\n",
       "      <td>2019</td>\n",
       "    </tr>\n",
       "    <tr>\n",
       "      <th>10388</th>\n",
       "      <td>2017-08-02 16:32:54</td>\n",
       "      <td>8</td>\n",
       "      <td>1035</td>\n",
       "      <td>2947</td>\n",
       "    </tr>\n",
       "    <tr>\n",
       "      <th>10389</th>\n",
       "      <td>2017-08-02 16:32:54</td>\n",
       "      <td>9</td>\n",
       "      <td>625</td>\n",
       "      <td>1332</td>\n",
       "    </tr>\n",
       "  </tbody>\n",
       "</table>\n",
       "<p>10390 rows × 4 columns</p>\n",
       "</div>"
      ],
      "text/plain": [
       "                timestamp  municipality_id  usage  total_capacity\n",
       "0     2017-06-04 07:59:42                0    204            2813\n",
       "1     2017-06-04 07:59:42                1    129             397\n",
       "2     2017-06-04 07:59:42                2    273             697\n",
       "3     2017-06-04 07:59:42                3    623            1930\n",
       "4     2017-06-04 07:59:42                4   1090            3893\n",
       "...                   ...              ...    ...             ...\n",
       "10385 2017-08-02 16:32:54                5    114             587\n",
       "10386 2017-08-02 16:32:54                6   1018            3113\n",
       "10387 2017-08-02 16:32:54                7   1169            2019\n",
       "10388 2017-08-02 16:32:54                8   1035            2947\n",
       "10389 2017-08-02 16:32:54                9    625            1332\n",
       "\n",
       "[10390 rows x 4 columns]"
      ]
     },
     "execution_count": 121,
     "metadata": {},
     "output_type": "execute_result"
    }
   ],
   "source": [
    "train_data"
   ]
  },
  {
   "cell_type": "code",
   "execution_count": 122,
   "id": "96c8d4d3",
   "metadata": {},
   "outputs": [],
   "source": [
    "test_0 = test_data[(test_data['municipality_id']==0)]\n",
    "train_0 = train_data[(train_data['municipality_id']==0)]\n",
    "\n",
    "test_1 = test_data[(test_data['municipality_id']==1)]\n",
    "train_1 = train_data[(train_data['municipality_id']==1)]\n",
    "\n",
    "test_2 = test_data[(test_data['municipality_id']==2)]\n",
    "train_2 = train_data[(train_data['municipality_id']==2)]\n",
    "\n",
    "test_3 = test_data[(test_data['municipality_id']==3)]\n",
    "train_3 = train_data[(train_data['municipality_id']==3)]\n",
    "\n",
    "test_4 = test_data[(test_data['municipality_id']==4)]\n",
    "train_4 = train_data[(train_data['municipality_id']==4)]\n",
    "\n",
    "test_5 = test_data[(test_data['municipality_id']==5)]\n",
    "train_5 = train_data[(train_data['municipality_id']==5)]\n",
    "\n",
    "test_6 = test_data[(test_data['municipality_id']==6)]\n",
    "train_6 = train_data[(train_data['municipality_id']==6)]\n",
    "\n",
    "test_7 = test_data[(test_data['municipality_id']==7)]\n",
    "train_7 = train_data[(train_data['municipality_id']==7)]\n",
    "\n",
    "test_8 = test_data[(test_data['municipality_id']==8)]\n",
    "train_8 =train_data[(train_data['municipality_id']==8)]\n",
    "\n",
    "test_9 = test_data[(test_data['municipality_id']==9)]\n",
    "train_9 = train_data[(train_data['municipality_id']==9)]"
   ]
  },
  {
   "cell_type": "code",
   "execution_count": 123,
   "id": "aa327042",
   "metadata": {},
   "outputs": [
    {
     "data": {
      "text/plain": [
       "(250, 4)"
      ]
     },
     "execution_count": 123,
     "metadata": {},
     "output_type": "execute_result"
    }
   ],
   "source": [
    "test_0.shape"
   ]
  },
  {
   "cell_type": "code",
   "execution_count": 124,
   "id": "5a74cf07",
   "metadata": {},
   "outputs": [
    {
     "data": {
      "text/plain": [
       "(1039, 4)"
      ]
     },
     "execution_count": 124,
     "metadata": {},
     "output_type": "execute_result"
    }
   ],
   "source": [
    "train_6.shape"
   ]
  },
  {
   "cell_type": "code",
   "execution_count": 153,
   "id": "75a24320",
   "metadata": {},
   "outputs": [],
   "source": [
    "def is_nun(num):\n",
    "    return num != num"
   ]
  },
  {
   "cell_type": "code",
   "execution_count": 154,
   "id": "ee8c92c5",
   "metadata": {},
   "outputs": [],
   "source": [
    "def fill_num(arr):\n",
    "    for i in range(len(arr.values)):\n",
    "        if is_nun(arr.values[i]):\n",
    "            arr.values[i] = arr.mean()\n",
    "    return arr"
   ]
  },
  {
   "cell_type": "markdown",
   "id": "e166b3f6",
   "metadata": {},
   "source": [
    "## Resample dataframe "
   ]
  },
  {
   "cell_type": "markdown",
   "id": "5fac1306",
   "metadata": {},
   "source": [
    "### Final Data"
   ]
  },
  {
   "cell_type": "code",
   "execution_count": 156,
   "id": "2f079b46",
   "metadata": {},
   "outputs": [],
   "source": [
    "finaldata = train_data.groupby([pd.Grouper(key='timestamp', freq='H'), 'municipality_id'], as_index=False)['usage'].max()"
   ]
  },
  {
   "cell_type": "code",
   "execution_count": 157,
   "id": "dcdbaa73",
   "metadata": {},
   "outputs": [],
   "source": [
    "# FİNAL DATA 0\n",
    "finaldata0 = train_0.groupby([pd.Grouper(key='timestamp', freq='H'), 'municipality_id'], as_index=False)['usage'].max()\n",
    "tsdata0 = train_0.groupby([pd.Grouper(key='timestamp', freq='H')])['usage'].max()\n",
    "tsdata0 = fill_num(tsdata0)"
   ]
  },
  {
   "cell_type": "code",
   "execution_count": 158,
   "id": "83c6c3de",
   "metadata": {},
   "outputs": [],
   "source": [
    "# FİNAL DATA 1\n",
    "finaldata1 = train_1.groupby([pd.Grouper(key='timestamp', freq='H'), 'municipality_id'], as_index=False)['usage'].max()\n",
    "tsdata1 = train_1.groupby([pd.Grouper(key='timestamp', freq='H')])['usage'].max()\n",
    "tsdata1 = fill_num(tsdata1)"
   ]
  },
  {
   "cell_type": "code",
   "execution_count": 159,
   "id": "4cf6d988",
   "metadata": {},
   "outputs": [],
   "source": [
    "#FİNAL DATA 2\n",
    "finaldata2 = train_2.groupby([pd.Grouper(key='timestamp', freq='H'), 'municipality_id'], as_index=False)['usage'].max()\n",
    "tsdata2 = train_2.groupby([pd.Grouper(key='timestamp', freq='H')])['usage'].max()\n",
    "tsdata2 = fill_num(tsdata2)"
   ]
  },
  {
   "cell_type": "code",
   "execution_count": 160,
   "id": "8bf75a7b",
   "metadata": {},
   "outputs": [],
   "source": [
    "#FİNAL DATA 3\n",
    "finaldata3 = train_3.groupby([pd.Grouper(key='timestamp', freq='H'), 'municipality_id'], as_index=False)['usage'].max()\n",
    "tsdata3 = train_3.groupby([pd.Grouper(key='timestamp', freq='H')])['usage'].max()\n",
    "tsdata3 = fill_num(tsdata3)"
   ]
  },
  {
   "cell_type": "code",
   "execution_count": 161,
   "id": "d2334ec8",
   "metadata": {},
   "outputs": [],
   "source": [
    "#FİNAL DATA 4\n",
    "finaldata4 = train_4.groupby([pd.Grouper(key='timestamp', freq='H'), 'municipality_id'], as_index=False)['usage'].max()\n",
    "tsdata4 = train_4.groupby([pd.Grouper(key='timestamp', freq='H')])['usage'].max()\n",
    "tsdata4 = fill_num(tsdata4)"
   ]
  },
  {
   "cell_type": "code",
   "execution_count": 162,
   "id": "73974b14",
   "metadata": {},
   "outputs": [],
   "source": [
    "#FİNAL DATA 5\n",
    "finaldata5 = train_5.groupby([pd.Grouper(key='timestamp', freq='H'), 'municipality_id'], as_index=False)['usage'].max()\n",
    "tsdata5 = train_5.groupby([pd.Grouper(key='timestamp', freq='H')])['usage'].max()\n",
    "tsdata5 = fill_num(tsdata5)"
   ]
  },
  {
   "cell_type": "code",
   "execution_count": 163,
   "id": "73827dbd",
   "metadata": {},
   "outputs": [],
   "source": [
    "#FİNAL DATA 6\n",
    "finaldata6 = train_6.groupby([pd.Grouper(key='timestamp', freq='H'), 'municipality_id'], as_index=False)['usage'].max()\n",
    "tsdata6 = train_6.groupby([pd.Grouper(key='timestamp', freq='H')])['usage'].max()\n",
    "tsdata6 = fill_num(tsdata6)"
   ]
  },
  {
   "cell_type": "code",
   "execution_count": 164,
   "id": "229c2606",
   "metadata": {},
   "outputs": [],
   "source": [
    "#FİNAL DATA 7\n",
    "finaldata7 = train_7.groupby([pd.Grouper(key='timestamp', freq='H'), 'municipality_id'], as_index=False)['usage'].max()\n",
    "tsdata7 = train_7.groupby([pd.Grouper(key='timestamp', freq='H')])['usage'].max()\n",
    "tsdata7 = fill_num(tsdata7)"
   ]
  },
  {
   "cell_type": "code",
   "execution_count": 165,
   "id": "a6f71b40",
   "metadata": {},
   "outputs": [],
   "source": [
    "#FİNAL DATA 8\n",
    "finaldata8 = train_8.groupby([pd.Grouper(key='timestamp', freq='H'), 'municipality_id'], as_index=False)['usage'].max()\n",
    "tsdata8 = train_8.groupby([pd.Grouper(key='timestamp', freq='H')])['usage'].max()\n",
    "tsdata8 = fill_num(tsdata8)"
   ]
  },
  {
   "cell_type": "code",
   "execution_count": 166,
   "id": "d7d408ca",
   "metadata": {},
   "outputs": [],
   "source": [
    "#FİNAL DATA 9\n",
    "finaldata9 = train_9.groupby([pd.Grouper(key='timestamp', freq='H'), 'municipality_id'], as_index=False)['usage'].max()\n",
    "tsdata9 = train_9.groupby([pd.Grouper(key='timestamp', freq='H')])['usage'].max()\n",
    "tsdata9 = fill_num(tsdata9)"
   ]
  },
  {
   "cell_type": "markdown",
   "id": "e12830c9",
   "metadata": {},
   "source": [
    "# Test Data"
   ]
  },
  {
   "cell_type": "code",
   "execution_count": 167,
   "id": "cb3d2289",
   "metadata": {},
   "outputs": [],
   "source": [
    "trydata = test_data.groupby([pd.Grouper(key='timestamp', freq='H'), 'municipality_id'], as_index=False)['usage'].max()"
   ]
  },
  {
   "cell_type": "code",
   "execution_count": 168,
   "id": "b718cc10",
   "metadata": {},
   "outputs": [],
   "source": [
    "#TRY DATA 0\n",
    "trydata0 = test_0.groupby([pd.Grouper(key='timestamp', freq='H'), 'municipality_id'], as_index=False)['usage'].max()\n",
    "tstdata0 = test_0.groupby([pd.Grouper(key='timestamp', freq='H')])['usage'].max()\n",
    "tstdata0 = fill_num(tstdata0)"
   ]
  },
  {
   "cell_type": "code",
   "execution_count": 169,
   "id": "e00c7a96",
   "metadata": {},
   "outputs": [],
   "source": [
    "#TRY DATA 1\n",
    "trydata1 = test_1.groupby([pd.Grouper(key='timestamp', freq='H'), 'municipality_id'], as_index=False)['usage'].max()\n",
    "tstdata1 = test_1.groupby([pd.Grouper(key='timestamp', freq='H')])['usage'].max()\n",
    "tstdata1 = fill_num(tstdata1)"
   ]
  },
  {
   "cell_type": "code",
   "execution_count": 170,
   "id": "29156bf0",
   "metadata": {},
   "outputs": [],
   "source": [
    "#TRY DATA 2\n",
    "trydata2 = test_2.groupby([pd.Grouper(key='timestamp', freq='H'), 'municipality_id'], as_index=False)['usage'].max()\n",
    "tstdata2 = test_2.groupby([pd.Grouper(key='timestamp', freq='H')])['usage'].max()\n",
    "tstdata2 = fill_num(tstdata2)"
   ]
  },
  {
   "cell_type": "code",
   "execution_count": 171,
   "id": "27a0d930",
   "metadata": {},
   "outputs": [],
   "source": [
    "#TRY DATA 3\n",
    "trydata3 = test_3.groupby([pd.Grouper(key='timestamp', freq='H'), 'municipality_id'], as_index=False)['usage'].max()\n",
    "tstdata3 = test_3.groupby([pd.Grouper(key='timestamp', freq='H')])['usage'].max()\n",
    "tstdata3 = fill_num(tstdata3)"
   ]
  },
  {
   "cell_type": "code",
   "execution_count": 172,
   "id": "f5e16593",
   "metadata": {},
   "outputs": [],
   "source": [
    "#TRY DATA 4\n",
    "trydata4 = test_4.groupby([pd.Grouper(key='timestamp', freq='H'), 'municipality_id'], as_index=False)['usage'].max()\n",
    "tstdata4 = test_4.groupby([pd.Grouper(key='timestamp', freq='H')])['usage'].max()\n",
    "tstdata4 = fill_num(tstdata4)"
   ]
  },
  {
   "cell_type": "code",
   "execution_count": 173,
   "id": "86af67c8",
   "metadata": {},
   "outputs": [],
   "source": [
    "#TRY DATA 5\n",
    "trydata5 = test_5.groupby([pd.Grouper(key='timestamp', freq='H'), 'municipality_id'], as_index=False)['usage'].max()\n",
    "tstdata5 = test_5.groupby([pd.Grouper(key='timestamp', freq='H')])['usage'].max()\n",
    "tstdata5 = fill_num(tstdata5)"
   ]
  },
  {
   "cell_type": "code",
   "execution_count": 174,
   "id": "a7656ae0",
   "metadata": {},
   "outputs": [],
   "source": [
    "#TRY DATA 6\n",
    "trydata6 = test_6.groupby([pd.Grouper(key='timestamp', freq='H'), 'municipality_id'], as_index=False)['usage'].max()\n",
    "tstdata6 = test_6.groupby([pd.Grouper(key='timestamp', freq='H')])['usage'].max()\n",
    "tstdata6 = fill_num(tstdata6)"
   ]
  },
  {
   "cell_type": "code",
   "execution_count": 175,
   "id": "0c8be5f3",
   "metadata": {},
   "outputs": [],
   "source": [
    "#TRY DATA 7\n",
    "trydata7 = test_7.groupby([pd.Grouper(key='timestamp', freq='H'), 'municipality_id'], as_index=False)['usage'].max()\n",
    "tstdata7 = test_7.groupby([pd.Grouper(key='timestamp', freq='H')])['usage'].max()\n",
    "tstdata7 = fill_num(tstdata7)"
   ]
  },
  {
   "cell_type": "code",
   "execution_count": 176,
   "id": "2d9763e1",
   "metadata": {},
   "outputs": [],
   "source": [
    "#TRY DATA 8\n",
    "trydata8 = test_8.groupby([pd.Grouper(key='timestamp', freq='H'), 'municipality_id'], as_index=False)['usage'].max()\n",
    "tstdata8 = test_8.groupby([pd.Grouper(key='timestamp', freq='H')])['usage'].max()\n",
    "tstdata8 = fill_num(tstdata8)"
   ]
  },
  {
   "cell_type": "code",
   "execution_count": 177,
   "id": "725ccb87",
   "metadata": {},
   "outputs": [],
   "source": [
    "#TRY DATA 9\n",
    "trydata9 = test_9.groupby([pd.Grouper(key='timestamp', freq='H'), 'municipality_id'], as_index=False)['usage'].max()\n",
    "tstdata9 = test_9.groupby([pd.Grouper(key='timestamp', freq='H')])['usage'].max()\n",
    "tstdata9 = fill_num(tstdata9)"
   ]
  },
  {
   "cell_type": "code",
   "execution_count": 178,
   "id": "93662c85",
   "metadata": {},
   "outputs": [
    {
     "name": "stdout",
     "output_type": "stream",
     "text": [
      "\n"
     ]
    },
    {
     "data": {
      "text/plain": [
       "[<matplotlib.lines.Line2D at 0x7fc88eb304e0>]"
      ]
     },
     "execution_count": 178,
     "metadata": {},
     "output_type": "execute_result"
    },
    {
     "data": {
      "image/png": "[encoded data removed]",
      "text/plain": [
       "<Figure size 432x288 with 1 Axes>"
      ]
     },
     "metadata": {},
     "output_type": "display_data"
    }
   ],
   "source": [
    "print()\n",
    "sns.set()\n",
    "plt.xticks(rotation=45)\n",
    "plt.plot(tsdata0.index, tsdata0, )"
   ]
  },
  {
   "cell_type": "code",
   "execution_count": 190,
   "id": "f9e23950",
   "metadata": {},
   "outputs": [],
   "source": [
    "def mean_absolute_percentage_error(y_test, y_pred):\n",
    "    y_test, y_pred = np.array(y_test), np.array(y_pred)\n",
    "    return np.mean(np.abs((y_test - y_pred) / y_test)) * 100"
   ]
  },
  {
   "cell_type": "code",
   "execution_count": 191,
   "id": "7a09cc67",
   "metadata": {},
   "outputs": [],
   "source": [
    "def print_performance(y_test, y_pred):\n",
    "    print('rmse:', np.sqrt(mean_squared_error(y_test, y_pred)))\n",
    "    print('r2:', r2_score(y_test, y_pred))"
   ]
  },
  {
   "cell_type": "markdown",
   "id": "c74e69c8",
   "metadata": {},
   "source": [
    "#  BASE MODEL "
   ]
  },
  {
   "cell_type": "markdown",
   "id": "fed1d89d",
   "metadata": {},
   "source": [
    "## Autoregressive Integrated Moving Average (ARIMA)\n"
   ]
  },
  {
   "cell_type": "markdown",
   "id": "fe3539c9",
   "metadata": {},
   "source": [
    "#### FOR MUNICIPALITY_ID = 0"
   ]
  },
  {
   "cell_type": "code",
   "execution_count": 192,
   "id": "17dc6635",
   "metadata": {},
   "outputs": [],
   "source": [
    "from statsmodels.tsa.arima.model import ARIMA\n",
    "Armamodel = ARIMA(tsdata0)\n",
    "ARMAmodel = Armamodel.fit()\n",
    "\n",
    "y_pred = ARMAmodel.get_forecast(len(tstdata0.index))\n",
    "y_pred_df = y_pred.conf_int(alpha = 0.05) \n",
    "y_pred_df[\"Predictions\"] = ARMAmodel.predict(start = y_pred_df.index[0], end = y_pred_df.index[-1])\n",
    "y_pred_df.index = tstdata0.index\n",
    "y_pred_out = y_pred_df[\"Predictions\"]"
   ]
  },
  {
   "cell_type": "code",
   "execution_count": 193,
   "id": "d82f4fcb",
   "metadata": {},
   "outputs": [
    {
     "data": {
      "text/plain": [
       "<matplotlib.legend.Legend at 0x7fc88ed375c0>"
      ]
     },
     "execution_count": 193,
     "metadata": {},
     "output_type": "execute_result"
    },
    {
     "data": {
      "image/png": "[encoded data removed]",
      "text/plain": [
       "<Figure size 432x288 with 1 Axes>"
      ]
     },
     "metadata": {},
     "output_type": "display_data"
    }
   ],
   "source": [
    "plt.plot(tsdata0, color = \"blue\")\n",
    "plt.plot(tstdata0, color = \"red\")\n",
    "plt.xticks(rotation=45)\n",
    "plt.plot(y_pred_out, color='green', label = 'Predictions')\n",
    "plt.legend()"
   ]
  },
  {
   "cell_type": "code",
   "execution_count": 194,
   "id": "d232eee4",
   "metadata": {},
   "outputs": [
    {
     "name": "stdout",
     "output_type": "stream",
     "text": [
      "rmse: 199.65109826861132\n",
      "r2: -0.44622130788137815\n"
     ]
    }
   ],
   "source": [
    "print_performance(tstdata0,y_pred_df[\"Predictions\"])"
   ]
  },
  {
   "cell_type": "markdown",
   "id": "0db8f9cf",
   "metadata": {},
   "source": [
    "#### FOR MUNICIPALITY_ID = 1"
   ]
  },
  {
   "cell_type": "code",
   "execution_count": 195,
   "id": "259ef135",
   "metadata": {},
   "outputs": [],
   "source": [
    "Armamodel = ARIMA(tsdata1)\n",
    "ARMAmodel = Armamodel.fit()\n",
    "\n",
    "y_pred = ARMAmodel.get_forecast(len(tstdata1.index))\n",
    "y_pred_df = y_pred.conf_int(alpha = 0.05) \n",
    "y_pred_df[\"Predictions\"] = ARMAmodel.predict(start = y_pred_df.index[0], end = y_pred_df.index[-1])\n",
    "y_pred_df.index = tstdata1.index\n",
    "y_pred_out = y_pred_df[\"Predictions\"]"
   ]
  },
  {
   "cell_type": "code",
   "execution_count": 196,
   "id": "71325b84",
   "metadata": {},
   "outputs": [
    {
     "data": {
      "text/plain": [
       "<matplotlib.legend.Legend at 0x7fc8a419bda0>"
      ]
     },
     "execution_count": 196,
     "metadata": {},
     "output_type": "execute_result"
    },
    {
     "data": {
      "image/png": "[encoded data removed]",
      "text/plain": [
       "<Figure size 432x288 with 1 Axes>"
      ]
     },
     "metadata": {},
     "output_type": "display_data"
    }
   ],
   "source": [
    "plt.plot(tsdata1, color = \"blue\")\n",
    "plt.plot(tstdata1, color = \"red\")\n",
    "plt.xticks(rotation=45)\n",
    "plt.plot(y_pred_out, color='green', label = 'Predictions')\n",
    "plt.legend()"
   ]
  },
  {
   "cell_type": "code",
   "execution_count": 197,
   "id": "342c0dcc",
   "metadata": {},
   "outputs": [
    {
     "name": "stdout",
     "output_type": "stream",
     "text": [
      "rmse: 75.68174392093204\n",
      "r2: -1.0316620067467723\n"
     ]
    }
   ],
   "source": [
    "print_performance(tstdata1,y_pred_df[\"Predictions\"])"
   ]
  },
  {
   "cell_type": "markdown",
   "id": "e6af10f5",
   "metadata": {},
   "source": [
    "#### FOR MUNICIPALITY_ID = 2"
   ]
  },
  {
   "cell_type": "code",
   "execution_count": 198,
   "id": "775df0d2",
   "metadata": {},
   "outputs": [],
   "source": [
    "Armamodel = ARIMA(tsdata2)\n",
    "ARMAmodel = Armamodel.fit()\n",
    "\n",
    "y_pred = ARMAmodel.get_forecast(len(tstdata2.index))\n",
    "y_pred_df = y_pred.conf_int(alpha = 0.05) \n",
    "y_pred_df[\"Predictions\"] = ARMAmodel.predict(start = y_pred_df.index[0], end = y_pred_df.index[-1])\n",
    "y_pred_df.index = tstdata2.index\n",
    "y_pred_out = y_pred_df[\"Predictions\"]"
   ]
  },
  {
   "cell_type": "code",
   "execution_count": 199,
   "id": "ce379bc1",
   "metadata": {},
   "outputs": [
    {
     "data": {
      "text/plain": [
       "<matplotlib.legend.Legend at 0x7fc8a4247da0>"
      ]
     },
     "execution_count": 199,
     "metadata": {},
     "output_type": "execute_result"
    },
    {
     "data": {
      "image/png": "[encoded data removed]",
      "text/plain": [
       "<Figure size 432x288 with 1 Axes>"
      ]
     },
     "metadata": {},
     "output_type": "display_data"
    }
   ],
   "source": [
    "plt.plot(tsdata2, color = \"blue\")\n",
    "plt.plot(tstdata2, color = \"red\")\n",
    "plt.xticks(rotation=45)\n",
    "plt.plot(y_pred_out, color='green', label = 'Predictions')\n",
    "plt.legend()"
   ]
  },
  {
   "cell_type": "code",
   "execution_count": 200,
   "id": "073fa31a",
   "metadata": {},
   "outputs": [
    {
     "name": "stdout",
     "output_type": "stream",
     "text": [
      "rmse: 81.20502383059869\n",
      "r2: -0.1239802518752342\n"
     ]
    }
   ],
   "source": [
    "print_performance(tstdata2,y_pred_df[\"Predictions\"])"
   ]
  },
  {
   "cell_type": "markdown",
   "id": "04a39b6e",
   "metadata": {},
   "source": [
    "#### FOR MUNICIPALITY_ID = 3"
   ]
  },
  {
   "cell_type": "code",
   "execution_count": 201,
   "id": "8ab5aead",
   "metadata": {},
   "outputs": [],
   "source": [
    "Armamodel = ARIMA(tsdata3)\n",
    "ARMAmodel = Armamodel.fit()\n",
    "\n",
    "y_pred = ARMAmodel.get_forecast(len(tstdata3.index))\n",
    "y_pred_df = y_pred.conf_int(alpha = 0.05) \n",
    "y_pred_df[\"Predictions\"] = ARMAmodel.predict(start = y_pred_df.index[0], end = y_pred_df.index[-1])\n",
    "y_pred_df.index = tstdata4.index\n",
    "y_pred_out = y_pred_df[\"Predictions\"]"
   ]
  },
  {
   "cell_type": "code",
   "execution_count": 202,
   "id": "6eea5eb4",
   "metadata": {},
   "outputs": [
    {
     "data": {
      "text/plain": [
       "<matplotlib.legend.Legend at 0x7fc88ec9eb00>"
      ]
     },
     "execution_count": 202,
     "metadata": {},
     "output_type": "execute_result"
    },
    {
     "data": {
      "image/png": "[encoded data removed]",
      "text/plain": [
       "<Figure size 432x288 with 1 Axes>"
      ]
     },
     "metadata": {},
     "output_type": "display_data"
    }
   ],
   "source": [
    "plt.plot(tsdata3, color = \"blue\")\n",
    "plt.plot(tstdata3, color = \"red\")\n",
    "plt.xticks(rotation=45)\n",
    "plt.plot(y_pred_out, color='green', label = 'Predictions')\n",
    "plt.legend()"
   ]
  },
  {
   "cell_type": "code",
   "execution_count": 203,
   "id": "6b3256de",
   "metadata": {},
   "outputs": [
    {
     "name": "stdout",
     "output_type": "stream",
     "text": [
      "rmse: 236.9468366661027\n",
      "r2: -0.06787845425628403\n"
     ]
    }
   ],
   "source": [
    "print_performance(tstdata3,y_pred_df[\"Predictions\"])"
   ]
  },
  {
   "cell_type": "markdown",
   "id": "4a7bbb29",
   "metadata": {},
   "source": [
    "#### FOR MUNICIPALITY_ID = 4"
   ]
  },
  {
   "cell_type": "code",
   "execution_count": 204,
   "id": "eea1ede2",
   "metadata": {},
   "outputs": [],
   "source": [
    "Armamodel = ARIMA(tsdata4)\n",
    "ARMAmodel = Armamodel.fit()\n",
    "\n",
    "y_pred = ARMAmodel.get_forecast(len(tstdata4.index))\n",
    "y_pred_df = y_pred.conf_int(alpha = 0.05) \n",
    "y_pred_df[\"Predictions\"] = ARMAmodel.predict(start = y_pred_df.index[0], end = y_pred_df.index[-1])\n",
    "y_pred_df.index = tstdata4.index\n",
    "y_pred_out = y_pred_df[\"Predictions\"]"
   ]
  },
  {
   "cell_type": "code",
   "execution_count": 205,
   "id": "0bdff908",
   "metadata": {},
   "outputs": [
    {
     "data": {
      "text/plain": [
       "<matplotlib.legend.Legend at 0x7fc88e9cfda0>"
      ]
     },
     "execution_count": 205,
     "metadata": {},
     "output_type": "execute_result"
    },
    {
     "data": {
      "image/png": "[encoded data removed]",
      "text/plain": [
       "<Figure size 432x288 with 1 Axes>"
      ]
     },
     "metadata": {},
     "output_type": "display_data"
    }
   ],
   "source": [
    "plt.plot(tsdata4, color = \"blue\")\n",
    "plt.plot(tstdata4, color = \"red\")\n",
    "plt.xticks(rotation=45)\n",
    "plt.plot(y_pred_out, color='green', label = 'Predictions')\n",
    "plt.legend()"
   ]
  },
  {
   "cell_type": "code",
   "execution_count": 206,
   "id": "8ff85675",
   "metadata": {},
   "outputs": [
    {
     "name": "stdout",
     "output_type": "stream",
     "text": [
      "rmse: 312.4947335862762\n",
      "r2: -0.14086881227451897\n"
     ]
    }
   ],
   "source": [
    "print_performance(tstdata4,y_pred_df[\"Predictions\"])"
   ]
  },
  {
   "cell_type": "markdown",
   "id": "d923b985",
   "metadata": {},
   "source": [
    "#### FOR MUNICIPALITY_ID = 5"
   ]
  },
  {
   "cell_type": "code",
   "execution_count": 207,
   "id": "a36a9986",
   "metadata": {},
   "outputs": [],
   "source": [
    "Armamodel = ARIMA(tsdata5)\n",
    "ARMAmodel = Armamodel.fit()\n",
    "\n",
    "y_pred = ARMAmodel.get_forecast(len(tstdata5.index))\n",
    "y_pred_df = y_pred.conf_int(alpha = 0.05) \n",
    "y_pred_df[\"Predictions\"] = ARMAmodel.predict(start = y_pred_df.index[0], end = y_pred_df.index[-1])\n",
    "y_pred_df.index = tstdata1.index\n",
    "y_pred_out = y_pred_df[\"Predictions\"]"
   ]
  },
  {
   "cell_type": "code",
   "execution_count": 209,
   "id": "c72af049",
   "metadata": {},
   "outputs": [
    {
     "data": {
      "text/plain": [
       "<matplotlib.legend.Legend at 0x7fc88e9307b8>"
      ]
     },
     "execution_count": 209,
     "metadata": {},
     "output_type": "execute_result"
    },
    {
     "data": {
      "image/png": "[encoded data removed]",
      "text/plain": [
       "<Figure size 432x288 with 1 Axes>"
      ]
     },
     "metadata": {},
     "output_type": "display_data"
    }
   ],
   "source": [
    "plt.plot(tsdata5, color = \"blue\")\n",
    "plt.plot(tstdata5, color = \"red\")\n",
    "plt.xticks(rotation=45)\n",
    "plt.plot(y_pred_out, color='green', label = 'Predictions')\n",
    "plt.legend()"
   ]
  },
  {
   "cell_type": "code",
   "execution_count": 210,
   "id": "90b34654",
   "metadata": {},
   "outputs": [
    {
     "name": "stdout",
     "output_type": "stream",
     "text": [
      "rmse: 70.24114638837017\n",
      "r2: -0.024615646656225953\n"
     ]
    }
   ],
   "source": [
    "print_performance(tstdata5,y_pred_df[\"Predictions\"])\n"
   ]
  },
  {
   "cell_type": "markdown",
   "id": "3f94ecdb",
   "metadata": {},
   "source": [
    "#### FOR MUNICIPALITY_ID = 6"
   ]
  },
  {
   "cell_type": "code",
   "execution_count": 211,
   "id": "90bfc6d1",
   "metadata": {},
   "outputs": [],
   "source": [
    "Armamodel = ARIMA(tsdata6)\n",
    "ARMAmodel = Armamodel.fit()\n",
    "\n",
    "y_pred = ARMAmodel.get_forecast(len(tstdata6.index))\n",
    "y_pred_df = y_pred.conf_int(alpha = 0.05) \n",
    "y_pred_df[\"Predictions\"] = ARMAmodel.predict(start = y_pred_df.index[0], end = y_pred_df.index[-1])\n",
    "y_pred_df.index = tstdata6.index\n",
    "y_pred_out = y_pred_df[\"Predictions\"]"
   ]
  },
  {
   "cell_type": "code",
   "execution_count": 212,
   "id": "e3b3772f",
   "metadata": {},
   "outputs": [
    {
     "data": {
      "text/plain": [
       "<matplotlib.legend.Legend at 0x7fc88e8a4358>"
      ]
     },
     "execution_count": 212,
     "metadata": {},
     "output_type": "execute_result"
    },
    {
     "data": {
      "image/png": "[encoded data removed]",
      "text/plain": [
       "<Figure size 432x288 with 1 Axes>"
      ]
     },
     "metadata": {},
     "output_type": "display_data"
    }
   ],
   "source": [
    "plt.plot(tsdata6, color = \"blue\")\n",
    "plt.plot(tstdata6, color = \"red\")\n",
    "plt.xticks(rotation=45)\n",
    "plt.plot(y_pred_out, color='green', label = 'Predictions')\n",
    "plt.legend()"
   ]
  },
  {
   "cell_type": "code",
   "execution_count": 213,
   "id": "ae521363",
   "metadata": {},
   "outputs": [
    {
     "name": "stdout",
     "output_type": "stream",
     "text": [
      "rmse: 180.20376106121515\n",
      "r2: -0.10841037570303103\n"
     ]
    }
   ],
   "source": [
    "print_performance(tstdata6,y_pred_df[\"Predictions\"])"
   ]
  },
  {
   "cell_type": "code",
   "execution_count": null,
   "id": "52c33145",
   "metadata": {},
   "outputs": [],
   "source": []
  },
  {
   "cell_type": "markdown",
   "id": "abbf8156",
   "metadata": {},
   "source": [
    "#### FOR MUNICIPALITY_ID = 7"
   ]
  },
  {
   "cell_type": "code",
   "execution_count": 214,
   "id": "750d0e19",
   "metadata": {},
   "outputs": [],
   "source": [
    "Armamodel = ARIMA(tsdata7)\n",
    "ARMAmodel = Armamodel.fit()\n",
    "\n",
    "y_pred = ARMAmodel.get_forecast(len(tstdata7.index))\n",
    "y_pred_df = y_pred.conf_int(alpha = 0.05) \n",
    "y_pred_df[\"Predictions\"] = ARMAmodel.predict(start = y_pred_df.index[0], end = y_pred_df.index[-1])\n",
    "y_pred_df.index = tstdata7.index\n",
    "y_pred_out = y_pred_df[\"Predictions\"]"
   ]
  },
  {
   "cell_type": "code",
   "execution_count": 215,
   "id": "aced8b22",
   "metadata": {},
   "outputs": [
    {
     "data": {
      "text/plain": [
       "<matplotlib.legend.Legend at 0x7fc88e813390>"
      ]
     },
     "execution_count": 215,
     "metadata": {},
     "output_type": "execute_result"
    },
    {
     "data": {
      "image/png": "[encoded data removed]",
      "text/plain": [
       "<Figure size 432x288 with 1 Axes>"
      ]
     },
     "metadata": {},
     "output_type": "display_data"
    }
   ],
   "source": [
    "plt.plot(tsdata7, color = \"blue\")\n",
    "plt.plot(tstdata7, color = \"red\")\n",
    "plt.xticks(rotation=45)\n",
    "plt.plot(y_pred_out, color='green', label = 'Predictions')\n",
    "plt.legend()"
   ]
  },
  {
   "cell_type": "code",
   "execution_count": 216,
   "id": "163d311b",
   "metadata": {},
   "outputs": [
    {
     "name": "stdout",
     "output_type": "stream",
     "text": [
      "rmse: 199.60084623348072\n",
      "r2: -0.20962643456497987\n"
     ]
    }
   ],
   "source": [
    "print_performance(tstdata7,y_pred_df[\"Predictions\"])"
   ]
  },
  {
   "cell_type": "code",
   "execution_count": 217,
   "id": "81a8b849",
   "metadata": {},
   "outputs": [],
   "source": [
    "Armamodel = ARIMA(tsdata8)\n",
    "ARMAmodel = Armamodel.fit()\n",
    "\n",
    "y_pred = ARMAmodel.get_forecast(len(tstdata8.index))\n",
    "y_pred_df = y_pred.conf_int(alpha = 0.05) \n",
    "y_pred_df[\"Predictions\"] = ARMAmodel.predict(start = y_pred_df.index[0], end = y_pred_df.index[-1])\n",
    "y_pred_df.index = tstdata8.index\n",
    "y_pred_out = y_pred_df[\"Predictions\"]"
   ]
  },
  {
   "cell_type": "code",
   "execution_count": 220,
   "id": "77805a82",
   "metadata": {},
   "outputs": [
    {
     "data": {
      "text/plain": [
       "<matplotlib.legend.Legend at 0x7fc88e76c470>"
      ]
     },
     "execution_count": 220,
     "metadata": {},
     "output_type": "execute_result"
    },
    {
     "data": {
      "image/png": "[encoded data removed]",
      "text/plain": [
       "<Figure size 432x288 with 1 Axes>"
      ]
     },
     "metadata": {},
     "output_type": "display_data"
    }
   ],
   "source": [
    "plt.plot(tsdata8, color = \"blue\")\n",
    "plt.plot(tstdata8, color = \"red\")\n",
    "plt.xticks(rotation=45)\n",
    "plt.plot(y_pred_out, color='green', label = 'Predictions')\n",
    "plt.legend()"
   ]
  },
  {
   "cell_type": "code",
   "execution_count": 221,
   "id": "c5ab0d8c",
   "metadata": {},
   "outputs": [
    {
     "name": "stdout",
     "output_type": "stream",
     "text": [
      "rmse: 177.99889100091565\n",
      "r2: -0.0001850350376400023\n"
     ]
    }
   ],
   "source": [
    "print_performance(tstdata8,y_pred_df[\"Predictions\"])"
   ]
  },
  {
   "cell_type": "markdown",
   "id": "4c230f3e",
   "metadata": {},
   "source": [
    "#### FOR MUNICIPALITY_ID = 9"
   ]
  },
  {
   "cell_type": "code",
   "execution_count": 222,
   "id": "58516e8b",
   "metadata": {},
   "outputs": [],
   "source": [
    "Armamodel = ARIMA(tsdata9)\n",
    "ARMAmodel = Armamodel.fit()\n",
    "\n",
    "y_pred = ARMAmodel.get_forecast(len(tstdata9.index))\n",
    "y_pred_df = y_pred.conf_int(alpha = 0.05) \n",
    "y_pred_df[\"Predictions\"] = ARMAmodel.predict(start = y_pred_df.index[0], end = y_pred_df.index[-1])\n",
    "y_pred_df.index = tstdata9.index\n",
    "y_pred_out = y_pred_df[\"Predictions\"]"
   ]
  },
  {
   "cell_type": "code",
   "execution_count": 223,
   "id": "ecff44d6",
   "metadata": {},
   "outputs": [
    {
     "data": {
      "text/plain": [
       "<matplotlib.legend.Legend at 0x7fc88e735160>"
      ]
     },
     "execution_count": 223,
     "metadata": {},
     "output_type": "execute_result"
    },
    {
     "data": {
      "image/png": "[encoded data removed]",
      "text/plain": [
       "<Figure size 432x288 with 1 Axes>"
      ]
     },
     "metadata": {},
     "output_type": "display_data"
    }
   ],
   "source": [
    "plt.plot(tsdata9, color = \"blue\")\n",
    "plt.plot(tstdata9, color = \"red\")\n",
    "plt.xticks(rotation=45)\n",
    "plt.plot(y_pred_out, color='green', label = 'Predictions')\n",
    "plt.legend()"
   ]
  },
  {
   "cell_type": "code",
   "execution_count": 224,
   "id": "58bf0688",
   "metadata": {},
   "outputs": [
    {
     "name": "stdout",
     "output_type": "stream",
     "text": [
      "rmse: 126.70232811315569\n",
      "r2: -0.2363981864845197\n"
     ]
    }
   ],
   "source": [
    "print_performance(tstdata9,y_pred_df[\"Predictions\"])"
   ]
  },
  {
   "cell_type": "code",
   "execution_count": null,
   "id": "1e904f62",
   "metadata": {},
   "outputs": [],
   "source": []
  }
 ],
 "metadata": {
  "kernelspec": {
   "display_name": "conda_python3",
   "language": "python",
   "name": "conda_python3"
  },
  "language_info": {
   "codemirror_mode": {
    "name": "ipython",
    "version": 3
   },
   "file_extension": ".py",
   "mimetype": "text/x-python",
   "name": "python",
   "nbconvert_exporter": "python",
   "pygments_lexer": "ipython3",
   "version": "3.6.13"
  }
 },
 "nbformat": 4,
 "nbformat_minor": 5
}
